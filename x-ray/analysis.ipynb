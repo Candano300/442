{
 "cells": [
  {
   "cell_type": "code",
   "execution_count": 698,
   "metadata": {},
   "outputs": [],
   "source": [
    "import numpy as np"
   ]
  },
  {
   "cell_type": "code",
   "execution_count": 699,
   "metadata": {},
   "outputs": [],
   "source": [
    "\n",
    "#the wavelengths of K_alpha1 and K_beta1 for Mo42 are \n",
    "lambda_alpha = 0.7114 * 10**(-10) #m\n",
    "lambda_beta = 0.6323  * 10**(-10) #m\n",
    "#for NaCl , the d (distance between the planes of the crystal) is defined as\n",
    "d = 2.82 * 10**(-10) #m  \n",
    "#from the class book "
   ]
  },
  {
   "cell_type": "code",
   "execution_count": 700,
   "metadata": {},
   "outputs": [],
   "source": [
    "def arcsin(x):\n",
    "    return np.rad2deg(np.arcsin(x))"
   ]
  },
  {
   "cell_type": "code",
   "execution_count": 701,
   "metadata": {},
   "outputs": [],
   "source": [
    "# Calculate the theoretical values of the angles \n",
    "theta_theory = np.array([])\n",
    "for n in [3,2,1]:\n",
    "    theta_alpha = arcsin(n*lambda_alpha/(2*d))\n",
    "    theta_beta = arcsin(n*lambda_beta/(2*d))\n",
    "    theta_theory = np.append(theta_alpha,theta_theory)\n",
    "    theta_theory = np.append(theta_beta,theta_theory)"
   ]
  },
  {
   "cell_type": "code",
   "execution_count": 702,
   "metadata": {},
   "outputs": [],
   "source": [
    "# Running calibration.c as\n",
    "# root calibration.c > outputs/txt/calibration.txt,\n",
    "# we get the experimental values as: \n",
    "theta_exp       = np.array([6.60858, 7.73428, 13.4170, 15.0649, 20.0906, 22.6886])\n",
    "sigma_theta_exp = np.array([7.33008e-02,5.50475e-02,6.00465e-02,5.37266e-02,5.55138e-02,3.89494e-02])"
   ]
  },
  {
   "cell_type": "code",
   "execution_count": 703,
   "metadata": {},
   "outputs": [
    {
     "data": {
      "text/plain": [
       "(array([ 6.60858,  7.73428, 13.417  , 15.0649 , 20.0906 , 22.6886 ]),\n",
       " array([0.0733008, 0.0550475, 0.0600465, 0.0537266, 0.0555138, 0.0389494]),\n",
       " array([ 6.43695807,  7.24629098, 12.95700727, 14.61185045, 19.65342192,\n",
       "        22.23487353]))"
      ]
     },
     "execution_count": 703,
     "metadata": {},
     "output_type": "execute_result"
    }
   ],
   "source": [
    "theta_exp, sigma_theta_exp, theta_theory #Will use these in macros"
   ]
  },
  {
   "attachments": {},
   "cell_type": "markdown",
   "metadata": {},
   "source": [
    "# Plotting the experimental values against the theoritical values, we get \n",
    "'''\n",
    "Processing plotangles.c...\n",
    " FCN=16.7945 FROM MIGRAD    STATUS=CONVERGED      52 CALLS          53 TOTAL\n",
    "                     EDM=3.50175e-09    STRATEGY= 1      ERROR MATRIX ACCURATE \n",
    "  EXT PARAMETER                                   STEP         FIRST   \n",
    "  NO.   NAME      VALUE            ERROR          SIZE      DERIVATIVE \n",
    "   1  p0           9.89902e-01   4.26597e-03   3.09820e-06  -4.30818e-02\n",
    "   2  p1          -2.64330e-01   6.37784e-02   4.63205e-05  -3.52675e-03\n",
    "'''\n",
    "#where p0 is the slope and p1 is the intercept of the y axis."
   ]
  },
  {
   "cell_type": "code",
   "execution_count": 704,
   "metadata": {},
   "outputs": [
    {
     "data": {
      "text/plain": [
       "array([ 6.27751656,  7.39184924, 13.01718513, 14.64844464, 19.62339512,\n",
       "       22.19516052])"
      ]
     },
     "execution_count": 704,
     "metadata": {},
     "output_type": "execute_result"
    }
   ],
   "source": [
    "a = 0.989902\n",
    "b = 0.26433\n",
    "\n",
    "#In order to do calibrate our values, we will put the experimental thetas in the function,\n",
    "def calibrate(theta):\n",
    "    return 0.989902*theta - 0.26433\n",
    "\n",
    "#and get the calibrated values as:\n",
    "calibrated_theta = calibrate(theta_exp)\n",
    "calibrated_theta"
   ]
  },
  {
   "cell_type": "code",
   "execution_count": 705,
   "metadata": {},
   "outputs": [
    {
     "data": {
      "text/plain": [
       "6.37932861650604"
      ]
     },
     "execution_count": 705,
     "metadata": {},
     "output_type": "execute_result"
    }
   ],
   "source": [
    "#Calculate the sigma of the calibrated data\n",
    "\n",
    "N = len(theta_exp)\n",
    "theta_mean = np.mean(theta_exp)\n",
    "sum = 0\n",
    "for i in range(N): \n",
    "        sum += (0.989902*theta_exp[i] - theta_mean)**2\n",
    "\n",
    "sigma_calibrated_theta = np.sqrt(sum/(N-1))\n",
    "\n",
    "#as referenced in the statistical book of the class.\n",
    "\n",
    "sigma_calibrated_theta"
   ]
  },
  {
   "cell_type": "code",
   "execution_count": 706,
   "metadata": {},
   "outputs": [],
   "source": [
    "# The uncertainty of the wavelength will be calculated as follows in the macro files; \n",
    "sigma_wavelength = np.sqrt( (2* d * np.cos(calibrated_theta) * sigma_calibrated_theta)**2 )"
   ]
  },
  {
   "attachments": {},
   "cell_type": "markdown",
   "metadata": {},
   "source": [
    "#Go to linefits folder and run it with the command :\n",
    "\n",
    "chmod +x execution.sh\n",
    "./execution.sh\n",
    "\n",
    "#results are in the outputs folder "
   ]
  },
  {
   "attachments": {},
   "cell_type": "markdown",
   "metadata": {},
   "source": [
    "\n",
    "------------------------------------------------------------------------------\n",
    "\n",
    "15kV\n",
    "\n",
    "****************************************\n",
    "Minimizer is Minuit / Migrad\n",
    "Chi2                      =      5.50454\n",
    "NDf                       =            6\n",
    "Edm                       =  6.99549e-21\n",
    "NCalls                    =           41\n",
    "p0                        =      1037.05   +/-   153.28      \n",
    "p1                        =      -81.666   +/-   12.4816     \n",
    "\n",
    "Approximate value of Planck's constant: 6.30773e-34\n",
    "Actual value of Planck's constant: 6.626e-34\n",
    "\n",
    "------------------------------------------------------------------------------\n",
    "\n",
    "18kV\n",
    "\n",
    " FCN=41.8981 FROM MIGRAD    STATUS=CONVERGED      38 CALLS          39 TOTAL\n",
    "                     EDM=4.67553e-19    STRATEGY= 1      ERROR MATRIX ACCURATE \n",
    "  EXT PARAMETER                                   STEP         FIRST   \n",
    "  NO.   NAME      VALUE            ERROR          SIZE      DERIVATIVE \n",
    "   1  p0           2.39467e+03   1.20992e+02   1.55555e-02  -5.70974e-12\n",
    "   2  p1          -1.58505e+02   8.35753e+00   1.07449e-03   3.30641e-11\n",
    "\n",
    "Approximate value of Planck's constant: 6.36225e-34\n",
    "Actual value of Planck's constant: 6.626e-34\n",
    "\n",
    "------------------------------------------------------------------------------\n",
    "\n",
    "21kV\n",
    "\n",
    " FCN=59.5916 FROM MIGRAD    STATUS=CONVERGED      33 CALLS          34 TOTAL\n",
    "                     EDM=3.71671e-18    STRATEGY= 1      ERROR MATRIX ACCURATE \n",
    "  EXT PARAMETER                                   STEP         FIRST   \n",
    "  NO.   NAME      VALUE            ERROR          SIZE      DERIVATIVE \n",
    "   1  p0           2.76923e+03   1.07464e+02   2.39009e-02  -4.21404e-10\n",
    "   2  p1          -1.53887e+02   6.38966e+00   1.42111e-03  -6.97486e-09\n",
    "\n",
    "Approximate value of Planck's constant: 6.23166e-34\n",
    "Actual value of Planck's constant: 6.626e-34\n",
    "\n",
    "------------------------------------------------------------------------------\n",
    "\n",
    "24kV\n",
    "\n",
    " FCN=238.035 FROM MIGRAD    STATUS=CONVERGED      34 CALLS          35 TOTAL\n",
    "                     EDM=6.06295e-19    STRATEGY= 1      ERROR MATRIX ACCURATE \n",
    "  EXT PARAMETER                                   STEP         FIRST   \n",
    "  NO.   NAME      VALUE            ERROR          SIZE      DERIVATIVE \n",
    "   1  p0           5.66371e+03   1.01609e+02   7.37216e-02  -1.11803e-10\n",
    "   2  p1          -2.90300e+02   5.89840e+00   4.27954e-03  -1.89277e-09\n",
    "\n",
    "Approximate value of Planck's constant: 6.56898e-34\n",
    "Actual value of Planck's constant: 6.626e-34\n",
    "\n",
    "------------------------------------------------------------------------------\n",
    "\n",
    "27kV\n",
    "\n",
    " FCN=50.1862 FROM MIGRAD    STATUS=CONVERGED      34 CALLS          35 TOTAL\n",
    "                     EDM=8.44109e-20    STRATEGY= 1      ERROR MATRIX ACCURATE \n",
    "  EXT PARAMETER                                   STEP         FIRST   \n",
    "  NO.   NAME      VALUE            ERROR          SIZE      DERIVATIVE \n",
    "   1  p0           4.78392e+03   1.33349e+02   4.43967e-02   2.68074e-11\n",
    "   2  p1          -2.06793e+02   6.96160e+00   2.31777e-03   5.44149e-10\n",
    "\n",
    "Approximate value of Planck's constant: 6.23241e-34\n",
    "Actual value of Planck's constant: 6.626e-34\n",
    "\n",
    "------------------------------------------------------------------------------\n",
    "\n",
    "30kV\n",
    "\n",
    " FCN=12.3275 FROM MIGRAD    STATUS=CONVERGED      35 CALLS          36 TOTAL\n",
    "                     EDM=7.9035e-19    STRATEGY= 1      ERROR MATRIX ACCURATE \n",
    "  EXT PARAMETER                                   STEP         FIRST   \n",
    "  NO.   NAME      VALUE            ERROR          SIZE      DERIVATIVE \n",
    "   1  p0           5.79943e+03   3.32306e+02   3.78559e-02   5.23204e-11\n",
    "   2  p1          -2.17742e+02   1.56685e+01   1.78495e-03   1.06983e-09\n",
    "\n",
    "Approximate value of Planck's constant: 6.01476e-34\n",
    "Actual value of Planck's constant: 6.626e-34\n"
   ]
  },
  {
   "cell_type": "code",
   "execution_count": 707,
   "metadata": {},
   "outputs": [],
   "source": [
    "linefit_slopes      = [ 1037.05, 2394.67 ,2769.23 ,5663.71 ,4783.92 ,5799.43 ] #nm\n",
    "linefit_y_intercept = [ -81.666,-158.505,-153.887,-290.300 ,-206.793,-217.742]\n",
    "\n",
    "#and the uncertainties as\n",
    "\n",
    "sigma_linefit_slopes = [153.28, 120.992 , 107.464, 101.609 ,133.349,  332.306] #nm\n",
    "sigma_linefit_y_intercept = [12.4816,8.35751,6.38964,5.89840 ,6.96160,15.6685]\n",
    " \n",
    " # p0 is the slope, p1 is the y-intercept. p1 has the unit [impulse/second], and since p0 = y/x\n",
    " # it has an unit imp/s / nm = imp/sm * 1e9 .\n",
    " # to account for this, we multiply p0 and sp0 by 1e9 to get the correct units\n",
    "\n",
    "linefit_slopes = np.array(linefit_slopes) * 1e9 #m\n",
    "sigma_linefit_slopes = np.array(sigma_linefit_slopes) * 1e9 #m\n"
   ]
  },
  {
   "cell_type": "code",
   "execution_count": 708,
   "metadata": {},
   "outputs": [
    {
     "data": {
      "text/plain": [
       "array([7.87483728e-11, 6.61907486e-11, 5.55703210e-11, 5.12561554e-11,\n",
       "       4.32266844e-11, 3.75454139e-11])"
      ]
     },
     "execution_count": 708,
     "metadata": {},
     "output_type": "execute_result"
    }
   ],
   "source": [
    "# We need to find the lambda_min values, which is the x-intercept of each graph. \n",
    "# We can use the fact that p_0 * x + p_1 = y to find it, by setting y = 0 . \n",
    "\n",
    "lambda_min = np.array([])\n",
    "\n",
    "for i in [5,4,3,2,1,0]:\n",
    "    p_0 = linefit_slopes[i]\n",
    "    p_1 = linefit_y_intercept[i]\n",
    "    lambda_min = np.append(-p_1/p_0,lambda_min)\n",
    "\n",
    "lambda_min # in meters"
   ]
  },
  {
   "cell_type": "code",
   "execution_count": 709,
   "metadata": {},
   "outputs": [
    {
     "data": {
      "text/plain": [
       "array([3.80579292e+18, 4.52782309e+18, 5.39316662e+18, 5.84710261e+18,\n",
       "       6.93321739e+18, 7.98233309e+18])"
      ]
     },
     "execution_count": 709,
     "metadata": {},
     "output_type": "execute_result"
    }
   ],
   "source": [
    "# Since what we are after is f_max, we will use the formula f_max = c/lambda_min\n",
    "c = 2.997*10**8     #m/s\n",
    "f_max = c/lambda_min # m.s/m = s^-1 = Hz\n",
    "f_max # Hz "
   ]
  },
  {
   "cell_type": "code",
   "execution_count": 717,
   "metadata": {},
   "outputs": [
    {
     "data": {
      "text/plain": [
       "array([2.40326493e-15, 2.88391792e-15, 3.36457090e-15, 3.84522389e-15,\n",
       "       4.32587687e-15, 4.80652986e-15])"
      ]
     },
     "execution_count": 717,
     "metadata": {},
     "output_type": "execute_result"
    }
   ],
   "source": [
    "# We will plot the energies ( E = q_electron * V_acc ) of the electrons against f_max of each fit \n",
    "# to find the Planck's Constant h at the end, since h = E/f_max, the slope.  \n",
    "\n",
    "energy_V = np.array([])  \n",
    "q_electron = 1.60217662 * 10**(-19)\n",
    "V_acc = [15,18,21,24,27,30] * 10**3  # convert from kV to V\n",
    "for i in [5,4,3,2,1,0]:   \n",
    "     energy_V = np.append(q_electron * V_acc[i] * 10**3,energy_V)\n",
    "\n",
    "\n",
    "#energy_V is in eV\n",
    "energy_V "
   ]
  },
  {
   "cell_type": "code",
   "execution_count": 711,
   "metadata": {},
   "outputs": [
    {
     "data": {
      "text/plain": [
       "(array([1.16402470e-11, 3.34439594e-12, 2.15653930e-12, 9.19560911e-13,\n",
       "        1.20493935e-12, 2.15137933e-12]),\n",
       " array([5.62556001e+17, 2.28775675e+17, 2.09294738e+17, 1.04899928e+17,\n",
       "        1.93262716e+17, 4.57393450e+17]))"
      ]
     },
     "execution_count": 711,
     "metadata": {},
     "output_type": "execute_result"
    }
   ],
   "source": [
    "#We also need the uncertainties of the datapoints themselves. In order to do this calculation we will use \n",
    "# the poisson sigma calculation \n",
    "\n",
    "c = 2.997*10**8\n",
    "\n",
    "sigma_lambda_min = np.array([])\n",
    "sigma_f_max = np.array([])\n",
    "for i in [5,4,3,2,1,0]:   \n",
    "    \n",
    "    a = linefit_slopes[i]\n",
    "    b = linefit_y_intercept[i]\n",
    "    sigma_a = sigma_linefit_slopes[i]\n",
    "    sigma_b = sigma_linefit_y_intercept[i]\n",
    "\n",
    "    sigma_lambda_min_i = (-b/a) * np.sqrt((sigma_a/a)**2 + (sigma_b/b**2)**2)\n",
    "    sigma_f_max_i      = (-a/b) * np.sqrt((sigma_a/a)**2 + (sigma_b/b**2)**2) * c\n",
    "\n",
    "    sigma_lambda_min = np.append(sigma_lambda_min_i,sigma_lambda_min)\n",
    "    sigma_f_max      = np.append(sigma_f_max_i,sigma_f_max)\n",
    "\n",
    "\n",
    "sigma_lambda_min,sigma_f_max"
   ]
  },
  {
   "cell_type": "code",
   "execution_count": 715,
   "metadata": {},
   "outputs": [
    {
     "name": "stdout",
     "output_type": "stream",
     "text": [
      "3.5630848173860554e+36\n"
     ]
    }
   ],
   "source": [
    "#Food for thought \n",
    "# Why only K-lines are observed when we bombard electrons to the metal?\n",
    "# This is actually interesting, since outershells of the atom is more easier to be ionized \n",
    "# I think this has two reasons \n",
    "# 1) Even if the number of electrons ionized in the outershells such as L and M are more, it is more likely for an electron to fill the vacancy\n",
    "# shell in the K shell, since it is closer to the nucleus, the energy difference is bigger.  \n",
    "# 2) Since the energy difference is smaller in the outershells, it is probable that the geiger-muller tube does not count when a\n",
    "# X-Ray is emitted from the outershells, because, maybe? its energy is not enough to ionize the gas in the tube."
   ]
  }
 ],
 "metadata": {
  "kernelspec": {
   "display_name": "Python 3",
   "language": "python",
   "name": "python3"
  },
  "language_info": {
   "codemirror_mode": {
    "name": "ipython",
    "version": 3
   },
   "file_extension": ".py",
   "mimetype": "text/x-python",
   "name": "python",
   "nbconvert_exporter": "python",
   "pygments_lexer": "ipython3",
   "version": "3.8.8"
  },
  "orig_nbformat": 4
 },
 "nbformat": 4,
 "nbformat_minor": 2
}
